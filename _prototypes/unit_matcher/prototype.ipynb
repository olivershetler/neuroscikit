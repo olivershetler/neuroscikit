{
 "cells": [
  {
   "cell_type": "code",
   "execution_count": 1,
   "metadata": {},
   "outputs": [
    {
     "name": "stdout",
     "output_type": "stream",
     "text": [
      "c:\\Users\\aaoun\\OneDrive - cumc.columbia.edu\\Desktop\\HussainiLab\\neuroscikit\n"
     ]
    }
   ],
   "source": [
    "import os, sys\n",
    "import numpy as np\n",
    "import matplotlib.pyplot as plt\n",
    "\n",
    "unit_matcher_path = os.getcwd()\n",
    "prototype_path = os.path.abspath(os.path.join(unit_matcher_path, os.pardir))\n",
    "project_path = os.path.abspath(os.path.join(prototype_path, os.pardir))\n",
    "lab_path = os.path.abspath(os.path.join(project_path, os.pardir))\n",
    "sys.path.append(project_path)\n",
    "os.chdir(project_path)\n",
    "print(project_path)\n",
    "\n",
    "from _prototypes.unit_matcher.main import format_cut, run_unit_matcher, map_unit_matches_first_session, map_unit_matches_sequential_session\n",
    "from _prototypes.unit_matcher.read_axona import read_sequential_sessions, temp_read_cut\n",
    "from _prototypes.unit_matcher.session import compare_sessions\n",
    "from _prototypes.unit_matcher.write_axona import format_new_cut_file_name\n",
    "from x_io.rw.axona.batch_read import make_study\n",
    "from _prototypes.unit_matcher.waveform import time_index, derivative, derivative2, morphological_points"
   ]
  },
  {
   "cell_type": "code",
   "execution_count": 2,
   "metadata": {},
   "outputs": [],
   "source": [
    "\"\"\" ONLY EDIT THE SETTINGS IN THIS CELL & RESTART BEFORE RUNNING \"\"\"\n",
    "\n",
    "# If a setting is not used for your analysis (e.g. smoothing_factor), just pass in an arbitrary value or pass in 'None'\n",
    "STUDY_SETTINGS = {\n",
    "    'ppm': 511,\n",
    "    'smoothing_factor': None,\n",
    "    'useMatchedCut': False, # Set to False if you want to use runUnitMatcher, set to True after to load in matched.cut file\n",
    "}\n",
    "\n",
    "\n",
    "# Switch devices to True/False based on what is being used (to be extended for more devices in future)\n",
    "device_settings = {'axona_led_traacker': True, 'implant': True}\n",
    "# Make sure implant metadata is correct, change if not, AT THE MINIMUM leave implant_type: tetrode\n",
    "implant_settings = {'implant_type': 'tetrode', 'implant_geometry': 'square', 'wire_length': 25, 'wire_length_units': 'um', 'implant_units': 'uV'}\n",
    "\n",
    "# WE ASSUME DEVICE AND IMPLANT SETTINGS ARE CONSISTENCE ACROSS SESSIONS, IF THIS IS NOT THE CASE PLEASE LET ME KNOW\n",
    "\n",
    "# Set channel count + add device/implant settings\n",
    "SESSION_SETTINGS = {\n",
    "    'channel_count': 4, # default is 4, can change to other but code will check how many tetrode files are present regardless\n",
    "    'devices': device_settings,\n",
    "    'implant': implant_settings,\n",
    "}\n",
    "\n",
    "STUDY_SETTINGS['session'] = SESSION_SETTINGS\n",
    "\n",
    "settings_dict = STUDY_SETTINGS"
   ]
  },
  {
   "cell_type": "code",
   "execution_count": null,
   "metadata": {},
   "outputs": [],
   "source": [
    "data_dir = lab_path + r'\\neuroscikit_test_data\\single_sequential'\n",
    "\n",
    "# animal metadata, insert in settings for now, later can read from a file or similar\n",
    "# CHANGE TO READ FROM FILE\n",
    "animal = {'animal_id': 'id', 'species': 'mouse', 'sex': 'F', 'age': 1, 'weight': 1, 'genotype': 'type', 'animal_notes': 'notes'}\n",
    "\n",
    "# later will change to set bool based on whether file is present or not,currently based on user input\n",
    "# CHANGE TO DEFAULT = TRUE. FORCE FALSE if data not present\n",
    "devices = {'axona_led_tracker': True, 'implant': True}\n",
    "\n",
    "# same as animal metadata\n",
    "# CHANGE TO READ FROM FILE\n",
    "implant = {'implant_id': 'id', 'implant_type': 'tetrode', 'implant_geometry': 'square', 'wire_length': 25, 'wire_length_units': 'um', 'implant_units': 'uV'}\n",
    "\n",
    "# aggregate settings for session\n",
    "# MAKE FUNCTION TO READ METADATA ABOVE + fill session dict\n",
    "session_settings = {'channel_count': 4, 'animal': animal, 'devices': devices, 'implant': implant}\n",
    "\n",
    "# add in cross-session/global settings\n",
    "# MAKE FUNCTION TO ADD SESSION DICTS TO GLOBAL SETTINGS DICT\n",
    "settings_dict_unmatched = {'ppm': 511, 'session': [session_settings,session_settings], 'smoothing_factor': 5, 'useMatchedCut': False} # --> compute matched cut labels + write file\n",
    "\n",
    "# make one where matched unit cut file is used\n",
    "settings_dict_matched = {'ppm': 511, 'session': [session_settings,session_settings], 'smoothing_factor': 5, 'useMatchedCut': True} # --> use matched cut to load data"
   ]
  },
  {
   "cell_type": "code",
   "execution_count": 3,
   "metadata": {},
   "outputs": [],
   "source": [
    "data_dir = lab_path + r'\\neuroscikit_test_data\\single_sequential'\n",
    "settings_dict_matched = settings_dict\n"
   ]
  },
  {
   "cell_type": "code",
   "execution_count": null,
   "metadata": {},
   "outputs": [],
   "source": [
    "# Run unit matching on non-matched study, will save new matched cut file (around 3-4 mins runtime per 2 sesssions compared)\n",
    "unmatched_study = run_unit_matcher([data_dir], settings_dict_unmatched)"
   ]
  },
  {
   "cell_type": "code",
   "execution_count": 4,
   "metadata": {},
   "outputs": [
    {
     "name": "stdout",
     "output_type": "stream",
     "text": [
      "[['c:\\\\Users\\\\aaoun\\\\OneDrive - cumc.columbia.edu\\\\Desktop\\\\HussainiLab\\\\neuroscikit_test_data\\\\single_sequential/1-13_20210621-34-50x50cm-1500um-Test1.pos', 'c:\\\\Users\\\\aaoun\\\\OneDrive - cumc.columbia.edu\\\\Desktop\\\\HussainiLab\\\\neuroscikit_test_data\\\\single_sequential/1-13_20210621-34-50x50cm-1500um-Test1.3', 'c:\\\\Users\\\\aaoun\\\\OneDrive - cumc.columbia.edu\\\\Desktop\\\\HussainiLab\\\\neuroscikit_test_data\\\\single_sequential/1-13_20210621-34-50x50cm-1500um-Test1_3.cut', 'c:\\\\Users\\\\aaoun\\\\OneDrive - cumc.columbia.edu\\\\Desktop\\\\HussainiLab\\\\neuroscikit_test_data\\\\single_sequential/1-13_20210621-34-50x50cm-1500um-Test1_3_matched.cut'], ['c:\\\\Users\\\\aaoun\\\\OneDrive - cumc.columbia.edu\\\\Desktop\\\\HussainiLab\\\\neuroscikit_test_data\\\\single_sequential/1-13_20210621-34-50x50cm-1500um-Test2.pos', 'c:\\\\Users\\\\aaoun\\\\OneDrive - cumc.columbia.edu\\\\Desktop\\\\HussainiLab\\\\neuroscikit_test_data\\\\single_sequential/1-13_20210621-34-50x50cm-1500um-Test2.3', 'c:\\\\Users\\\\aaoun\\\\OneDrive - cumc.columbia.edu\\\\Desktop\\\\HussainiLab\\\\neuroscikit_test_data\\\\single_sequential/1-13_20210621-34-50x50cm-1500um-Test2_3.cut', 'c:\\\\Users\\\\aaoun\\\\OneDrive - cumc.columbia.edu\\\\Desktop\\\\HussainiLab\\\\neuroscikit_test_data\\\\single_sequential/1-13_20210621-34-50x50cm-1500um-Test2_3_matched.cut']]\n"
     ]
    },
    {
     "ename": "KeyError",
     "evalue": "'animal'",
     "output_type": "error",
     "traceback": [
      "\u001b[1;31m---------------------------------------------------------------------------\u001b[0m",
      "\u001b[1;31mKeyError\u001b[0m                                  Traceback (most recent call last)",
      "\u001b[1;32mc:\\Users\\aaoun\\OneDrive - cumc.columbia.edu\\Desktop\\HussainiLab\\neuroscikit\\_prototypes\\unit_matcher\\unit_matcher.ipynb Cell 6\u001b[0m in \u001b[0;36m<cell line: 2>\u001b[1;34m()\u001b[0m\n\u001b[0;32m      <a href='vscode-notebook-cell:/c%3A/Users/aaoun/OneDrive%20-%20cumc.columbia.edu/Desktop/HussainiLab/neuroscikit/_prototypes/unit_matcher/unit_matcher.ipynb#X23sZmlsZQ%3D%3D?line=0'>1</a>\u001b[0m \u001b[39m# For now, set up new study with matched unit cut file. In the future will have a converter to copy overwrite existing study or copy it with edits rather than loading in a new one (=slow)  \u001b[39;00m\n\u001b[1;32m----> <a href='vscode-notebook-cell:/c%3A/Users/aaoun/OneDrive%20-%20cumc.columbia.edu/Desktop/HussainiLab/neuroscikit/_prototypes/unit_matcher/unit_matcher.ipynb#X23sZmlsZQ%3D%3D?line=1'>2</a>\u001b[0m matched_study \u001b[39m=\u001b[39m make_study([data_dir], settings_dict_matched)\n",
      "File \u001b[1;32mc:\\Users\\aaoun\\OneDrive - cumc.columbia.edu\\Desktop\\HussainiLab\\neuroscikit\\x_io\\rw\\axona\\batch_read.py:45\u001b[0m, in \u001b[0;36mmake_study\u001b[1;34m(directory, settings_dict)\u001b[0m\n\u001b[0;32m     42\u001b[0m session_settings_dict \u001b[39m=\u001b[39m settings_dict[\u001b[39m'\u001b[39m\u001b[39msession\u001b[39m\u001b[39m'\u001b[39m]\n\u001b[0;32m     43\u001b[0m \u001b[39mprint\u001b[39m(sorted_files)\n\u001b[1;32m---> 45\u001b[0m sessions \u001b[39m=\u001b[39m batch_sessions(sorted_files, settings_dict, session_settings_dict)\n\u001b[0;32m     47\u001b[0m study_dict \u001b[39m=\u001b[39m _fill_study_dict(sessions, study_dict)\n\u001b[0;32m     49\u001b[0m study_metadata_dict \u001b[39m=\u001b[39m _get_study_metadata()\n",
      "File \u001b[1;32mc:\\Users\\aaoun\\OneDrive - cumc.columbia.edu\\Desktop\\HussainiLab\\neuroscikit\\x_io\\rw\\axona\\batch_read.py:197\u001b[0m, in \u001b[0;36mbatch_sessions\u001b[1;34m(sorted_files, settings_dict, session_settings_dict)\u001b[0m\n\u001b[0;32m    194\u001b[0m \u001b[39melse\u001b[39;00m:\n\u001b[0;32m    195\u001b[0m     cut_file \u001b[39m=\u001b[39m sorted_files[i][\u001b[39m2\u001b[39m]\n\u001b[1;32m--> 197\u001b[0m session \u001b[39m=\u001b[39m make_session(cut_file, sorted_files[i][\u001b[39m1\u001b[39;49m], sorted_files[i][\u001b[39m0\u001b[39;49m], session_settings_dict, settings_dict[\u001b[39m'\u001b[39;49m\u001b[39mppm\u001b[39;49m\u001b[39m'\u001b[39;49m])\n\u001b[0;32m    199\u001b[0m session\u001b[39m.\u001b[39mset_smoothing_factor(settings_dict[\u001b[39m'\u001b[39m\u001b[39msmoothing_factor\u001b[39m\u001b[39m'\u001b[39m])\n\u001b[0;32m    201\u001b[0m sessions[\u001b[39m'\u001b[39m\u001b[39msession_\u001b[39m\u001b[39m'\u001b[39m\u001b[39m+\u001b[39m\u001b[39mstr\u001b[39m(i\u001b[39m+\u001b[39m\u001b[39m1\u001b[39m)] \u001b[39m=\u001b[39m session\n",
      "File \u001b[1;32mc:\\Users\\aaoun\\OneDrive - cumc.columbia.edu\\Desktop\\HussainiLab\\neuroscikit\\x_io\\rw\\axona\\batch_read.py:207\u001b[0m, in \u001b[0;36mmake_session\u001b[1;34m(cut_file, tet_file, pos_file, settings_dict, ppm)\u001b[0m\n\u001b[0;32m    205\u001b[0m \u001b[39mdef\u001b[39;00m \u001b[39mmake_session\u001b[39m(cut_file, tet_file, pos_file, settings_dict, ppm):\n\u001b[1;32m--> 207\u001b[0m     session_dict \u001b[39m=\u001b[39m _init_session_dict(settings_dict)\n\u001b[0;32m    209\u001b[0m     implant_data_dict \u001b[39m=\u001b[39m _get_session_data(cut_file, tet_file, ch_count\u001b[39m=\u001b[39msettings_dict[\u001b[39m'\u001b[39m\u001b[39mchannel_count\u001b[39m\u001b[39m'\u001b[39m])\n\u001b[0;32m    211\u001b[0m     \u001b[39mif\u001b[39;00m settings_dict[\u001b[39m'\u001b[39m\u001b[39mdevices\u001b[39m\u001b[39m'\u001b[39m][\u001b[39m'\u001b[39m\u001b[39maxona_led_tracker\u001b[39m\u001b[39m'\u001b[39m] \u001b[39m==\u001b[39m \u001b[39mTrue\u001b[39;00m:\n",
      "File \u001b[1;32mc:\\Users\\aaoun\\OneDrive - cumc.columbia.edu\\Desktop\\HussainiLab\\neuroscikit\\x_io\\rw\\axona\\batch_read.py:304\u001b[0m, in \u001b[0;36m_init_session_dict\u001b[1;34m(settings_dict)\u001b[0m\n\u001b[0;32m    301\u001b[0m session_dict[\u001b[39m'\u001b[39m\u001b[39manimal\u001b[39m\u001b[39m'\u001b[39m] \u001b[39m=\u001b[39m {}\n\u001b[0;32m    302\u001b[0m session_dict[\u001b[39m'\u001b[39m\u001b[39mdevices\u001b[39m\u001b[39m'\u001b[39m] \u001b[39m=\u001b[39m {}\n\u001b[1;32m--> 304\u001b[0m animal_keys \u001b[39m=\u001b[39m settings_dict[\u001b[39m'\u001b[39;49m\u001b[39manimal\u001b[39;49m\u001b[39m'\u001b[39;49m]\n\u001b[0;32m    305\u001b[0m \u001b[39m# animal_keys = ['animal_id', 'species', 'sex', 'age', 'weight', 'genotype', 'animal_notes'] \u001b[39;00m\n\u001b[0;32m    306\u001b[0m devices \u001b[39m=\u001b[39m settings_dict[\u001b[39m'\u001b[39m\u001b[39mdevices\u001b[39m\u001b[39m'\u001b[39m]\n",
      "\u001b[1;31mKeyError\u001b[0m: 'animal'"
     ]
    }
   ],
   "source": [
    "# For now, set up new study with matched unit cut file. In the future will have a converter to copy overwrite existing study or copy it with edits rather than loading in a new one (=slow)  \n",
    "matched_study = make_study([data_dir], settings_dict_matched)"
   ]
  },
  {
   "cell_type": "code",
   "execution_count": null,
   "metadata": {},
   "outputs": [],
   "source": [
    "# call make animals to organze sesssions by animal\n",
    "matched_study.make_animals()"
   ]
  },
  {
   "cell_type": "code",
   "execution_count": null,
   "metadata": {},
   "outputs": [],
   "source": [
    "session1 = matched_study.animals[0].sessions['session_1']\n",
    "ensemble1 = matched_study.animals[0].ensembles['session_1']\n",
    "session2 = matched_study.animals[0].sessions['session_2']\n",
    "ensemble2 = matched_study.animals[0].ensembles['session_2']\n",
    "\n",
    "unmatched_ensembles1 = unmatched_study.animals[0].ensembles['session_1']\n",
    "unmatched_ensembles2 = unmatched_study.animals[0].ensembles['session_2']"
   ]
  },
  {
   "cell_type": "code",
   "execution_count": null,
   "metadata": {},
   "outputs": [],
   "source": [
    "# Check they have same number of matched cells (can remove this)\n",
    "assert ensemble1.get_label_ids() == ensemble1.get_label_ids()"
   ]
  },
  {
   "cell_type": "code",
   "execution_count": null,
   "metadata": {},
   "outputs": [],
   "source": [
    "# To view morphological points\n",
    "def plot_waveform_points(waveform, time_step):\n",
    "    t = time_index(waveform, time_step)\n",
    "    d_waveform = derivative(waveform, time_step)\n",
    "    d2_waveform = derivative2(waveform, time_step)\n",
    "    p1, p2, p3, p4, p5, p6 = morphological_points(t, waveform, d_waveform, d2_waveform, time_step)\n",
    "    fig, ax1 = plt.subplots()\n",
    "    color = 'tab:red'\n",
    "    ax1.set_xlabel('time (mS)')\n",
    "    ax1.set_ylabel('mV', color=color)\n",
    "    ax1.plot(t, waveform, color=color)\n",
    "    ax1.plot(p1.t, p1.v, 'o', color=color, label='p1')\n",
    "    ax1.plot(p3.t, p3.v, 'o', color=color, label='p3')\n",
    "    ax1.plot(p5.t, p5.v, 'o', color=color, label='p5')\n",
    "    ax1.tick_params(axis='y', labelcolor=color)\n",
    "    ax2 = ax1.twinx()  # instantiate a second axes that shares the same x-axis\n",
    "    color = 'tab:orange'\n",
    "    ax2.set_ylabel('mV/mS', color=color)  # we already handled the x-label with ax1\n",
    "    ax2.plot(t, d_waveform, color=color, linestyle='--')\n",
    "    ax2.plot(p2.t, p2.dv, 'o', color=color, label='p2')\n",
    "    ax2.plot(p4.t, p4.dv, 'o', color=color, label='p4')\n",
    "    ax2.plot(p6.t, p6.dv, 'o', color=color, label='p6')\n",
    "    ax2.tick_params(axis='y', labelcolor=color)\n",
    "    fig.tight_layout()  # otherwise the right y-label is slightly clipped\n",
    "    plt.legend()\n",
    "    plt.show()"
   ]
  },
  {
   "cell_type": "code",
   "execution_count": null,
   "metadata": {},
   "outputs": [],
   "source": [
    "# example plot of morphological points\n",
    "plot_waveform_points(ensemble1.cells[5].signal[-1,3], .02)"
   ]
  },
  {
   "cell_type": "code",
   "execution_count": null,
   "metadata": {},
   "outputs": [],
   "source": [
    "\"\"\" Plot session 1 (top) & session 2 (bottom) MATCHED units \"\"\"\n",
    "\n",
    "pair_count = len(ensemble1.get_label_ids())\n",
    "\n",
    "for i in range(pair_count):\n",
    "# for i in range(3):\n",
    "\n",
    "    fig = plt.figure(figsize=(18,6))\n",
    "\n",
    "    axes = []\n",
    "\n",
    "    jsd1 = round(unmatched_ensembles1.cells[i].cluster.stats_dict['JSD'], 2)\n",
    "    jsd2 = round(unmatched_ensembles2.cells[i].cluster.stats_dict['JSD'], 2)\n",
    "\n",
    "    assert jsd1 == jsd2\n",
    "\n",
    "    waveforms1 = ensemble1.cells[i].signal\n",
    "    waveforms2 = ensemble2.cells[i].signal\n",
    "\n",
    "    avg_waveforms1 = np.mean(waveforms1, axis=0)\n",
    "    avg_waveforms2 = np.mean(waveforms2, axis=0)\n",
    "\n",
    "    assert waveforms1.shape[1] == avg_waveforms1.shape[0]\n",
    "\n",
    "    for j in range(avg_waveforms1.shape[0]):\n",
    "        ax1 = plt.subplot(2,avg_waveforms1.shape[0],j+1)\n",
    "        ax2 = plt.subplot(2,avg_waveforms1.shape[0],j+1 + 4)\n",
    "\n",
    "        ax1.plot(waveforms1[:,int(j)].T, color='gray', lw=0.5, alpha=0.5)\n",
    "        ax2.plot(waveforms2[:,int(j)].T, color='gray', lw=0.5, alpha=0.5)\n",
    "\n",
    "        ax1.plot(avg_waveforms1[int(j)], color='k', lw=2)\n",
    "        ax2.plot(avg_waveforms2[int(j)], color='k', lw=2)\n",
    "\n",
    "        ax1.set_title('Channel ' + str(int(j+1)))\n",
    "        ax2.set_title('Channel ' + str(int(j+1)))\n",
    "\n",
    "        axes.append(ax1)\n",
    "        axes.append(ax2)\n",
    "\n",
    "    for ax in axes:\n",
    "        ax.set_xlabel('Bin Number')\n",
    "        ax.set_ylabel('Waveform')\n",
    "\n",
    "    fig.suptitle('Session 1 (top) & 2 (bottom) - Unit ' + str(i+1) + ': JSD = ' + str(jsd1))\n",
    "\n",
    "    fig.tight_layout()\n",
    "    plt.show()\n"
   ]
  },
  {
   "cell_type": "code",
   "execution_count": null,
   "metadata": {},
   "outputs": [],
   "source": [
    "\"\"\" Plot session 1 (left) & session 2 (right) MATCHED units \"\"\"\n",
    "\n",
    "pair_count = len(ensemble1.get_label_ids())\n",
    "\n",
    "for i in range(pair_count):\n",
    "# for i in range(2):\n",
    "\n",
    "    fig = plt.figure(figsize=(6,12))\n",
    "\n",
    "    axes = []\n",
    "\n",
    "    waveforms1 = ensemble1.cells[i].signal\n",
    "    waveforms2 = ensemble2.cells[i].signal\n",
    "\n",
    "    avg_waveforms1 = np.mean(waveforms1, axis=0)\n",
    "    avg_waveforms2 = np.mean(waveforms2, axis=0)\n",
    "\n",
    "    assert waveforms1.shape[1] == avg_waveforms1.shape[0]\n",
    "\n",
    "    for j in range(0,avg_waveforms1.shape[0]*2,2):\n",
    "        ax1 = plt.subplot(avg_waveforms1.shape[0],2,j+1)\n",
    "        ax2 = plt.subplot(avg_waveforms1.shape[0],2,j+2)\n",
    "\n",
    "        ax1.plot(waveforms1[:,int(j/2)].T, color='gray', lw=0.5, alpha=0.5)\n",
    "        ax2.plot(waveforms2[:,int(j/2)].T, color='gray', lw=0.5, alpha=0.5)\n",
    "\n",
    "        ax1.plot(avg_waveforms1[int(j/2)], color='k', lw=2)\n",
    "        ax2.plot(avg_waveforms2[int(j/2)], color='k', lw=2)\n",
    "\n",
    "        ax1.set_title('Channel ' + str(int(j/2+1)))\n",
    "        ax2.set_title('Channel ' + str(int(j/2+1)))\n",
    "\n",
    "        axes.append(ax1)\n",
    "        axes.append(ax2)\n",
    "\n",
    "    for ax in axes:\n",
    "        ax.set_xlabel('Bin Number')\n",
    "        ax.set_ylabel('Waveform')\n",
    "\n",
    "    fig.suptitle('Session 1 (left) & 2 (right) - Unit ' + str(i+1))\n",
    "\n",
    "    fig.tight_layout()\n",
    "    plt.show()\n"
   ]
  }
 ],
 "metadata": {
  "kernelspec": {
   "display_name": "Python 3.10.6 64-bit (system)",
   "language": "python",
   "name": "python3"
  },
  "language_info": {
   "codemirror_mode": {
    "name": "ipython",
    "version": 3
   },
   "file_extension": ".py",
   "mimetype": "text/x-python",
   "name": "python",
   "nbconvert_exporter": "python",
   "pygments_lexer": "ipython3",
   "version": "3.10.6"
  },
  "orig_nbformat": 4,
  "vscode": {
   "interpreter": {
    "hash": "271de3eaf5512a01a3a2cea9253de8f7a978ec97e5a00bc2131d971ee349090f"
   }
  }
 },
 "nbformat": 4,
 "nbformat_minor": 2
}

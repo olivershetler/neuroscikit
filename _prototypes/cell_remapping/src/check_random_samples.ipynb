{
 "cells": [
  {
   "cell_type": "code",
   "execution_count": 4,
   "metadata": {},
   "outputs": [],
   "source": [
    "import math\n",
    "from itertools import chain\n",
    "import numpy as np\n",
    "import matplotlib.pyplot as plt\n"
   ]
  },
  {
   "cell_type": "code",
   "execution_count": 23,
   "metadata": {},
   "outputs": [
    {
     "data": {
      "image/png": "[encoded data removed]",
      "text/plain": [
       "<Figure size 640x480 with 1 Axes>"
      ]
     },
     "metadata": {},
     "output_type": "display_data"
    }
   ],
   "source": [
    "def generate_grid(arena_height, arena_width, spacing, is_hexagonal=False, is_cylinder=False):\n",
    "    if is_hexagonal:\n",
    "        hexagon_size = spacing / math.sqrt(3)\n",
    "        num_columns = math.ceil(arena_width / (1.5 * hexagon_size))\n",
    "        num_rows = math.ceil(arena_height / ((hexagon_size * math.sqrt(3))))\n",
    "\n",
    "    else:\n",
    "        num_columns = math.ceil(arena_width / spacing)\n",
    "        num_rows = math.ceil(arena_height / spacing)\n",
    "        \n",
    "   \n",
    "    if is_cylinder:\n",
    "        radius_x = arena_width / 2\n",
    "        radius_y = arena_height / 2\n",
    "        # offset_x = (arena_width - num_columns * spacing) / 2  # Adjust the x-offset\n",
    "        # offset_y = (arena_height - num_rows * spacing) / 2   \n",
    "        # offset_y = offset_x\n",
    "    else:\n",
    "        radius_x = None\n",
    "        radius_y = None\n",
    "    \n",
    "    offset_x = offset_y = 0\n",
    "\n",
    "    if is_hexagonal:\n",
    "        # print(offset_x, offset_y, num_columns, num_rows, hexagon_size)\n",
    "        columns = range(num_columns)\n",
    "        rows = range(num_rows)\n",
    "        grid = list(\n",
    "            map(\n",
    "                lambda row: list(\n",
    "                    map(\n",
    "                        lambda col: (\n",
    "                            col * (1.5 * hexagon_size) + offset_x,\n",
    "                            row * (hexagon_size * math.sqrt(3)) + ((col % 2) * (hexagon_size * math.sqrt(3) / 2)) + offset_y\n",
    "                        ),\n",
    "                        filter(\n",
    "                            lambda col: not radius_x or math.sqrt(\n",
    "                                ((col * (1.5 * hexagon_size) + offset_x) - radius_x) ** 2 +\n",
    "                                ((row * (hexagon_size * math.sqrt(3))) + ((col % 2) * (hexagon_size * math.sqrt(3) / 2)) - radius_y) ** 2\n",
    "                            ) <= radius_x,\n",
    "                            columns\n",
    "                        )\n",
    "                    )\n",
    "                ),\n",
    "                rows\n",
    "            )\n",
    "        )\n",
    "    else:\n",
    "        columns = range(num_columns)\n",
    "        rows = range(num_rows)\n",
    "        grid = list(\n",
    "            map(\n",
    "                lambda row: list(\n",
    "                    map(\n",
    "                        lambda col: (\n",
    "                            col * spacing + offset_x,\n",
    "                            row * spacing + offset_y\n",
    "                        ),\n",
    "                        filter(\n",
    "                            lambda col: not radius_x or math.sqrt(\n",
    "                                ((col * spacing + offset_x) - radius_x) ** 2 +\n",
    "                                ((row * spacing + offset_y) - radius_y) ** 2\n",
    "                            ) <= radius_x,\n",
    "                            columns\n",
    "                        )\n",
    "                    )\n",
    "                ),\n",
    "                rows\n",
    "            )\n",
    "        )\n",
    "\n",
    "    return list(chain.from_iterable(grid))\n",
    "\n",
    "\n",
    "def plot_hexagonal_grid(points):\n",
    "    # Extract x and y coordinates from the grid points\n",
    "    x_coords = [point[0] for point in points]\n",
    "    y_coords = [point[1] for point in points]\n",
    "    \n",
    "    # Plot the hexagonal grid\n",
    "    plt.scatter(x_coords, y_coords)\n",
    "    plt.gca().set_aspect('equal', adjustable='box')  # Set equal aspect ratio for x and y axes\n",
    "    plt.show()\n",
    "\n",
    "# EDIT HERE\n",
    "arena_height = 36\n",
    "arena_width = 34\n",
    "spacing = 2\n",
    "\n",
    "pts1 = generate_grid(arena_height, arena_width, spacing, is_hexagonal=True, is_cylinder=True)\n",
    "\n",
    "pts2 = generate_grid(arena_height, arena_width, spacing, is_hexagonal=True, is_cylinder=False)\n",
    "\n",
    "pts1 = np.array(pts1)\n",
    "pts2 = np.array(pts2)\n",
    "\n",
    "plt.scatter(pts2[:,1], pts2[:,0],color='cyan')\n",
    "plt.scatter(pts1[:,1], pts1[:,0], color='k')\n",
    "plt.title('Total sample points rect vs hex: {} vs {}'.format(len(pts2), len(pts1)))\n",
    "plt.show()\n",
    "\n"
   ]
  },
  {
   "cell_type": "code",
   "execution_count": 7,
   "metadata": {},
   "outputs": [
    {
     "name": "stdout",
     "output_type": "stream",
     "text": [
      "None\n"
     ]
    }
   ],
   "source": [
    "import re\n",
    "filename = '1-13_20210510-17-50x50cm-1200um-Test1'\n",
    "\n",
    "pattern = r'^([^-]+)\\_[0-9]{8}\\-[0-9]{2}\\-([^-]+)\\-([^-]+)\\-([^-]+)$'\n",
    "\n",
    "match = re.match(pattern, filename)\n",
    "print(match)"
   ]
  },
  {
   "cell_type": "code",
   "execution_count": 20,
   "metadata": {},
   "outputs": [
    {
     "name": "stdout",
     "output_type": "stream",
     "text": [
      "No match found.\n"
     ]
    }
   ],
   "source": [
    "import re\n",
    "\n",
    "filename = '1-13_20210510-17-50x50cm-1200um-Test1'\n",
    "pattern = r'^([^-]+)-([^-]+)_([0-9]{8})-[0-9]{2}-([^-]+)-([^-]+)-([^-]+)$'\n",
    "\n",
    "match = re.match(pattern, filename)\n",
    "if match:\n",
    "    print(\"Match found!\")\n",
    "else:\n",
    "    print(\"No match found.\")\n"
   ]
  }
 ],
 "metadata": {
  "kernelspec": {
   "display_name": "envPRISM",
   "language": "python",
   "name": "python3"
  },
  "language_info": {
   "codemirror_mode": {
    "name": "ipython",
    "version": 3
   },
   "file_extension": ".py",
   "mimetype": "text/x-python",
   "name": "python",
   "nbconvert_exporter": "python",
   "pygments_lexer": "ipython3",
   "version": "3.10.6"
  },
  "orig_nbformat": 4
 },
 "nbformat": 4,
 "nbformat_minor": 2
}

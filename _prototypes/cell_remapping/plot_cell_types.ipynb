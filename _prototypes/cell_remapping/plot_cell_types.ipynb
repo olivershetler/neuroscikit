{
 "cells": [
  {
   "cell_type": "code",
   "execution_count": 6,
   "metadata": {},
   "outputs": [
    {
     "name": "stdout",
     "output_type": "stream",
     "text": [
      "The autoreload extension is already loaded. To reload it, use:\n",
      "  %reload_ext autoreload\n"
     ]
    }
   ],
   "source": [
    "# To be able to make edits to repo without having to restart notebook\n",
    "%load_ext autoreload\n",
    "%autoreload 2"
   ]
  },
  {
   "cell_type": "code",
   "execution_count": 7,
   "metadata": {},
   "outputs": [
    {
     "name": "stdout",
     "output_type": "stream",
     "text": [
      "c:\\Users\\aaoun\\OneDrive - cumc.columbia.edu\\Desktop\\HussainiLab\\neuroscikit\n"
     ]
    }
   ],
   "source": [
    "import os, sys\n",
    "import numpy as np\n",
    "import pandas as pd\n",
    "import matplotlib.pyplot as plt\n",
    "from scipy.stats import pearsonr, mannwhitneyu, wilcoxon, ttest_rel, ttest_ind\n",
    "import seaborn as sns\n",
    "from matplotlib.patches import FancyArrowPatch\n",
    "from matplotlib.colors import ColorConverter\n",
    "\n",
    "\n",
    "PROJECT_PATH = os.getcwd()\n",
    "proto_path = os.path.abspath(os.path.join(PROJECT_PATH, os.pardir))\n",
    "neuro_path = os.path.abspath(os.path.join(proto_path, os.pardir))\n",
    "sys.path.append(neuro_path)\n",
    "print(neuro_path)\n",
    "\n",
    "from library.study_space import Session, Study\n",
    "from x_io.rw.axona.batch_read import make_study\n",
    "from _prototypes.cell_remapping.src.masks import make_object_ratemap"
   ]
  },
  {
   "cell_type": "code",
   "execution_count": 8,
   "metadata": {},
   "outputs": [
    {
     "ename": "NameError",
     "evalue": "name 'settings_dict' is not defined",
     "output_type": "error",
     "traceback": [
      "\u001b[1;31m---------------------------------------------------------------------------\u001b[0m",
      "\u001b[1;31mNameError\u001b[0m                                 Traceback (most recent call last)",
      "\u001b[1;32mc:\\Users\\aaoun\\OneDrive - cumc.columbia.edu\\Desktop\\HussainiLab\\neuroscikit\\_prototypes\\cell_remapping\\plot_cell_types.ipynb Cell 3\u001b[0m in \u001b[0;36m<cell line: 24>\u001b[1;34m()\u001b[0m\n\u001b[0;32m     <a href='vscode-notebook-cell:/c%3A/Users/aaoun/OneDrive%20-%20cumc.columbia.edu/Desktop/HussainiLab/neuroscikit/_prototypes/cell_remapping/plot_cell_types.ipynb#W3sZmlsZQ%3D%3D?line=16'>17</a>\u001b[0m SESSION_SETTINGS \u001b[39m=\u001b[39m {\n\u001b[0;32m     <a href='vscode-notebook-cell:/c%3A/Users/aaoun/OneDrive%20-%20cumc.columbia.edu/Desktop/HussainiLab/neuroscikit/_prototypes/cell_remapping/plot_cell_types.ipynb#W3sZmlsZQ%3D%3D?line=17'>18</a>\u001b[0m     \u001b[39m'\u001b[39m\u001b[39mchannel_count\u001b[39m\u001b[39m'\u001b[39m: \u001b[39m4\u001b[39m, \u001b[39m# EDIT HERE, default is 4, you can change to other number but code will check how many tetrode files are present and set that to channel copunt regardless\u001b[39;00m\n\u001b[0;32m     <a href='vscode-notebook-cell:/c%3A/Users/aaoun/OneDrive%20-%20cumc.columbia.edu/Desktop/HussainiLab/neuroscikit/_prototypes/cell_remapping/plot_cell_types.ipynb#W3sZmlsZQ%3D%3D?line=18'>19</a>\u001b[0m     \u001b[39m'\u001b[39m\u001b[39mdevices\u001b[39m\u001b[39m'\u001b[39m: device_settings, \u001b[39m# EDIT HERE\u001b[39;00m\n\u001b[0;32m     <a href='vscode-notebook-cell:/c%3A/Users/aaoun/OneDrive%20-%20cumc.columbia.edu/Desktop/HussainiLab/neuroscikit/_prototypes/cell_remapping/plot_cell_types.ipynb#W3sZmlsZQ%3D%3D?line=19'>20</a>\u001b[0m     \u001b[39m'\u001b[39m\u001b[39mimplant\u001b[39m\u001b[39m'\u001b[39m: implant_settings, \u001b[39m# EDIT HERE\u001b[39;00m\n\u001b[0;32m     <a href='vscode-notebook-cell:/c%3A/Users/aaoun/OneDrive%20-%20cumc.columbia.edu/Desktop/HussainiLab/neuroscikit/_prototypes/cell_remapping/plot_cell_types.ipynb#W3sZmlsZQ%3D%3D?line=20'>21</a>\u001b[0m }\n\u001b[0;32m     <a href='vscode-notebook-cell:/c%3A/Users/aaoun/OneDrive%20-%20cumc.columbia.edu/Desktop/HussainiLab/neuroscikit/_prototypes/cell_remapping/plot_cell_types.ipynb#W3sZmlsZQ%3D%3D?line=21'>22</a>\u001b[0m STUDY_SETTINGS[\u001b[39m'\u001b[39m\u001b[39msession\u001b[39m\u001b[39m'\u001b[39m] \u001b[39m=\u001b[39m SESSION_SETTINGS\n\u001b[1;32m---> <a href='vscode-notebook-cell:/c%3A/Users/aaoun/OneDrive%20-%20cumc.columbia.edu/Desktop/HussainiLab/neuroscikit/_prototypes/cell_remapping/plot_cell_types.ipynb#W3sZmlsZQ%3D%3D?line=23'>24</a>\u001b[0m settings_dict[\u001b[39m'\u001b[39m\u001b[39mspeed_lowerbound\u001b[39m\u001b[39m'\u001b[39m] \u001b[39m=\u001b[39m \u001b[39m0\u001b[39m \n\u001b[0;32m     <a href='vscode-notebook-cell:/c%3A/Users/aaoun/OneDrive%20-%20cumc.columbia.edu/Desktop/HussainiLab/neuroscikit/_prototypes/cell_remapping/plot_cell_types.ipynb#W3sZmlsZQ%3D%3D?line=24'>25</a>\u001b[0m settings_dict[\u001b[39m'\u001b[39m\u001b[39mspeed_upperbound\u001b[39m\u001b[39m'\u001b[39m] \u001b[39m=\u001b[39m \u001b[39m99\u001b[39m\n\u001b[0;32m     <a href='vscode-notebook-cell:/c%3A/Users/aaoun/OneDrive%20-%20cumc.columbia.edu/Desktop/HussainiLab/neuroscikit/_prototypes/cell_remapping/plot_cell_types.ipynb#W3sZmlsZQ%3D%3D?line=25'>26</a>\u001b[0m settings_dict[\u001b[39m'\u001b[39m\u001b[39mratemap_dims\u001b[39m\u001b[39m'\u001b[39m] \u001b[39m=\u001b[39m (\u001b[39m32\u001b[39m,\u001b[39m32\u001b[39m)\n",
      "\u001b[1;31mNameError\u001b[0m: name 'settings_dict' is not defined"
     ]
    }
   ],
   "source": [
    "STUDY_SETTINGS = {\n",
    "\n",
    "        'ppm': 485,  # EDIT HERE\n",
    "\n",
    "        'smoothing_factor': 3, # EDIT HERE\n",
    "\n",
    "        'useMatchedCut': True,  # EDIT HERE\n",
    "    }\n",
    "\n",
    "\n",
    "# Switch devices to True/False based on what is used in the acquisition (to be extended for more devices in future)\n",
    "device_settings = {'axona_led_tracker': True, 'implant': True} \n",
    "# Make sure implant metadata is correct, change if not, AT THE MINIMUM leave implant_type: tetrode\n",
    "implant_settings = {'implant_type': 'tetrode', 'implant_geometry': 'square', 'wire_length': 25, 'wire_length_units': 'um', 'implant_units': 'uV'}\n",
    "# WE ASSUME DEVICE AND IMPLANT SETTINGS ARE CONSISTENCE ACROSS SESSIONS\n",
    "# Set channel count + add device/implant settings\n",
    "SESSION_SETTINGS = {\n",
    "    'channel_count': 4, # EDIT HERE, default is 4, you can change to other number but code will check how many tetrode files are present and set that to channel copunt regardless\n",
    "    'devices': device_settings, # EDIT HERE\n",
    "    'implant': implant_settings, # EDIT HERE\n",
    "}\n",
    "STUDY_SETTINGS['session'] = SESSION_SETTINGS\n",
    "settings_dict = STUDY_SETTINGS\n",
    "\n",
    "settings_dict['speed_lowerbound'] = 0 \n",
    "settings_dict['speed_upperbound'] = 99\n",
    "settings_dict['ratemap_dims'] = (32,32)\n",
    "settings_dict['disk_arena'] = True"
   ]
  },
  {
   "cell_type": "code",
   "execution_count": null,
   "metadata": {},
   "outputs": [],
   "source": [
    "def flat_disk_mask(rate_map):\n",
    "    masked_rate_map = disk_mask(rate_map)\n",
    "    masked_rate_map.data[masked_rate_map.mask] = np.nan\n",
    "    return  masked_rate_map.data"
   ]
  },
  {
   "cell_type": "code",
   "execution_count": null,
   "metadata": {},
   "outputs": [
    {
     "ename": "NameError",
     "evalue": "name 'settings_dict' is not defined",
     "output_type": "error",
     "traceback": [
      "\u001b[1;31m---------------------------------------------------------------------------\u001b[0m",
      "\u001b[1;31mNameError\u001b[0m                                 Traceback (most recent call last)",
      "\u001b[1;32mc:\\Users\\aaoun\\OneDrive - cumc.columbia.edu\\Desktop\\HussainiLab\\neuroscikit\\_prototypes\\cell_remapping\\plot_cell_types.ipynb Cell 5\u001b[0m in \u001b[0;36m<cell line: 21>\u001b[1;34m()\u001b[0m\n\u001b[0;32m     <a href='vscode-notebook-cell:/c%3A/Users/aaoun/OneDrive%20-%20cumc.columbia.edu/Desktop/HussainiLab/neuroscikit/_prototypes/cell_remapping/plot_cell_types.ipynb#W2sZmlsZQ%3D%3D?line=29'>30</a>\u001b[0m tetrode \u001b[39m=\u001b[39m animal[\u001b[39m4\u001b[39m]\n\u001b[0;32m     <a href='vscode-notebook-cell:/c%3A/Users/aaoun/OneDrive%20-%20cumc.columbia.edu/Desktop/HussainiLab/neuroscikit/_prototypes/cell_remapping/plot_cell_types.ipynb#W2sZmlsZQ%3D%3D?line=30'>31</a>\u001b[0m cell \u001b[39m=\u001b[39m animal[\u001b[39m5\u001b[39m]\n\u001b[1;32m---> <a href='vscode-notebook-cell:/c%3A/Users/aaoun/OneDrive%20-%20cumc.columbia.edu/Desktop/HussainiLab/neuroscikit/_prototypes/cell_remapping/plot_cell_types.ipynb#W2sZmlsZQ%3D%3D?line=33'>34</a>\u001b[0m settings_dict[\u001b[39m'\u001b[39m\u001b[39msingle_tet\u001b[39m\u001b[39m'\u001b[39m] \u001b[39m=\u001b[39m \u001b[39mint\u001b[39m(tetrode)\n\u001b[0;32m     <a href='vscode-notebook-cell:/c%3A/Users/aaoun/OneDrive%20-%20cumc.columbia.edu/Desktop/HussainiLab/neuroscikit/_prototypes/cell_remapping/plot_cell_types.ipynb#W2sZmlsZQ%3D%3D?line=35'>36</a>\u001b[0m subdir \u001b[39m=\u001b[39m _find_subdir(folder_list,aid,date)\n\u001b[0;32m     <a href='vscode-notebook-cell:/c%3A/Users/aaoun/OneDrive%20-%20cumc.columbia.edu/Desktop/HussainiLab/neuroscikit/_prototypes/cell_remapping/plot_cell_types.ipynb#W2sZmlsZQ%3D%3D?line=37'>38</a>\u001b[0m sub_study \u001b[39m=\u001b[39m make_study(subdir,settings_dict\u001b[39m=\u001b[39msettings_dict)\n",
      "\u001b[1;31mNameError\u001b[0m: name 'settings_dict' is not defined"
     ]
    }
   ],
   "source": [
    "folder_path = '...'\n",
    "\n",
    "output_folder_path = '...'\n",
    "\n",
    "dict_path = r\"C:\\Users\\aaoun\\OneDrive - cumc.columbia.edu\\Desktop\\HussainiLab\\neuroscikit\\_prototypes\\cell_remapping\\identifier_dict.pkl\"\n",
    "\n",
    "# list all folders in folder_path at any level  \n",
    "# folder_list = [x[0] for x in os.walk(folder_path)]\n",
    "\n",
    "def _find_subdir(folder_list,aid,date):\n",
    "    \"\"\"\n",
    "    Finds the subdirectory of a given animal and date\n",
    "    \"\"\"\n",
    "    for folder in folder_list:\n",
    "        if date in str(folder):\n",
    "            if aid in str(folder.split('\\\\')[-2]):\n",
    "                return folder\n",
    "\n",
    "ctype_dict = pd.read_pickle(dict_path)\n",
    "\n",
    "for ctype in ctype_dict:\n",
    "    \n",
    "    for group in ctype_dict[ctype]:\n",
    "\n",
    "        animal_cell_list =  ctype_dict[ctype][group]\n",
    "        \n",
    "        for animal in animal_cell_list:\n",
    "            aid = animal[1]\n",
    "            date = animal[3]\n",
    "            tetrode = animal[4]\n",
    "            cell = animal[5]\n",
    "            \n",
    "\n",
    "            settings_dict['single_tet'] = int(tetrode)\n",
    "\n",
    "            subdir = _find_subdir(folder_list,aid,date)\n",
    "\n",
    "            sub_study = make_study(subdir,settings_dict=settings_dict)\n",
    "            sub_study.make_animals()       \n",
    "\n",
    "            animal = sub_study.animals[0]\n",
    "\n",
    "            ses_ratemaps = []\n",
    "            ses_ratemap_objs = []\n",
    "\n",
    "            for session in animal.sessions:\n",
    "                pos_obj = session.get_position_data()['position']\n",
    "\n",
    "                tet_path = session.session_metadata.file_paths['tet']\n",
    "                fname = tet_path.split('/')[-1].split('.')[0]\n",
    "\n",
    "                if settings['disk_arena']: \n",
    "                    cylinder = True\n",
    "                else:\n",
    "                    cylinder, _ = check_disk_arena(fname)\n",
    "                    if not cylinder:\n",
    "                        print('Not cylinder for {}'.format(fname))\n",
    "                        \n",
    "                if settings['naming_type'] == 'LEC':\n",
    "                    group, name = extract_name_lec(fname)\n",
    "                    formats = LEC_naming_format[group][name][settings['type']]\n",
    "\n",
    "                for format in list(formats.keys()):\n",
    "                    checked = _check_single_format(fname, format, formats[format])\n",
    "                    if checked is not None:\n",
    "                        break\n",
    "                    else:\n",
    "                        continue\n",
    "                \n",
    "                angle, depth, name, date = checked\n",
    "\n",
    "                spatial_spike_train = session.make_class(SpatialSpikeTrain2D, \n",
    "                    {'cell': cell, 'position': pos_obj, 'speed_bounds': (settings_dict['speed_lowerbound'], settings_dict['speed_upperbound'])})   \n",
    "\n",
    "                for cell in session.get_cell_data()['cell_ensemble'].cells:  \n",
    "                    if cell_label in ensemble.get_cell_label_dict():\n",
    "        \n",
    "                        rate_obj = spatial_spike_train.get_map('rate')\n",
    "                        rate_map, rate_map_raw = rate_obj.get_rate_map(new_size=settings_dict['ratemap_dims'][0])\n",
    "\n",
    "                        if cylinder:\n",
    "                            curr = flat_disk_mask(rate_map)\n",
    "                            \n",
    "                        ses_ratemaps.append(rate_map)\n",
    "                        ses_ratemap_objs.append(rate_obj)\n",
    "\n",
    "            fig = plt.figure(figsize=(10,10))\n",
    "\n",
    "            for i, ratemap in enumerate(ses_ratemaps):\n",
    "                ax = fig.add_subplot(1,len(ses_ratemaps),i+1)\n",
    "                img = ax.imshow(ratemap, cmap='jet')\n",
    "                ax.set_title(angle)\n",
    "\n",
    "                _, obj_loc = make_object_ratemap(angle, ses_ratemap_objs[i])\n",
    "\n",
    "                ax.plot(obj_loc[0], obj_loc[1], 'kx', markersize=10)\n",
    "\n",
    "                fig.colorbar(img, ax=ax, fraction=0.046, pad=0.04)\n",
    "\n",
    "            fig.tight_layout()\n",
    "            plt.show()\n",
    "            stop()\n",
    "            # save to output folder\n",
    "            fig.savefig(output_folder_path, dpi=360)\n",
    "            plt.close()\n",
    "            \n",
    "\n",
    "\n",
    "\n",
    "                "
   ]
  }
 ],
 "metadata": {
  "kernelspec": {
   "display_name": "envPRISM",
   "language": "python",
   "name": "python3"
  },
  "language_info": {
   "codemirror_mode": {
    "name": "ipython",
    "version": 3
   },
   "file_extension": ".py",
   "mimetype": "text/x-python",
   "name": "python",
   "nbconvert_exporter": "python",
   "pygments_lexer": "ipython3",
   "version": "3.10.6"
  },
  "orig_nbformat": 4
 },
 "nbformat": 4,
 "nbformat_minor": 2
}
